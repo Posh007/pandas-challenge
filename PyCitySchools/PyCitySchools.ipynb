{
 "cells": [
  {
   "cell_type": "markdown",
   "metadata": {},
   "source": [
    "# PyCity Schools Analysis"
   ]
  },
  {
   "cell_type": "code",
   "execution_count": 1,
   "metadata": {},
   "outputs": [],
   "source": [
    "#Import Dependencies\n",
    "import pandas as pd\n",
    "import numpy as np"
   ]
  },
  {
   "cell_type": "code",
   "execution_count": 2,
   "metadata": {},
   "outputs": [],
   "source": [
    "# Files to fetch\n",
    "school_data_to_load = \"Resources/schools_complete.csv\"\n",
    "student_data_to_load = \"Resources/students_complete.csv\""
   ]
  },
  {
   "cell_type": "code",
   "execution_count": 3,
   "metadata": {},
   "outputs": [],
   "source": [
    "# Read School and Student Data File and store into Pandas Data Frames\n",
    "school_data = pd.read_csv(school_data_to_load)\n",
    "student_data = pd.read_csv(student_data_to_load)"
   ]
  },
  {
   "cell_type": "code",
   "execution_count": 4,
   "metadata": {},
   "outputs": [],
   "source": [
    "# Combine the data into a single dataset.  \n",
    "school_data_complete = pd.merge(student_data, school_data, how=\"left\", on=[\"school_name\", \"school_name\"])"
   ]
  },
  {
   "cell_type": "code",
   "execution_count": 5,
   "metadata": {},
   "outputs": [
    {
     "data": {
      "text/html": [
       "<div>\n",
       "<style scoped>\n",
       "    .dataframe tbody tr th:only-of-type {\n",
       "        vertical-align: middle;\n",
       "    }\n",
       "\n",
       "    .dataframe tbody tr th {\n",
       "        vertical-align: top;\n",
       "    }\n",
       "\n",
       "    .dataframe thead th {\n",
       "        text-align: right;\n",
       "    }\n",
       "</style>\n",
       "<table border=\"1\" class=\"dataframe\">\n",
       "  <thead>\n",
       "    <tr style=\"text-align: right;\">\n",
       "      <th></th>\n",
       "      <th>Student ID</th>\n",
       "      <th>student_name</th>\n",
       "      <th>gender</th>\n",
       "      <th>grade</th>\n",
       "      <th>school_name</th>\n",
       "      <th>reading_score</th>\n",
       "      <th>math_score</th>\n",
       "      <th>School ID</th>\n",
       "      <th>type</th>\n",
       "      <th>size</th>\n",
       "      <th>budget</th>\n",
       "    </tr>\n",
       "  </thead>\n",
       "  <tbody>\n",
       "    <tr>\n",
       "      <th>0</th>\n",
       "      <td>0</td>\n",
       "      <td>Paul Bradley</td>\n",
       "      <td>M</td>\n",
       "      <td>9th</td>\n",
       "      <td>Huang High School</td>\n",
       "      <td>66</td>\n",
       "      <td>79</td>\n",
       "      <td>0</td>\n",
       "      <td>District</td>\n",
       "      <td>2917</td>\n",
       "      <td>1910635</td>\n",
       "    </tr>\n",
       "    <tr>\n",
       "      <th>1</th>\n",
       "      <td>1</td>\n",
       "      <td>Victor Smith</td>\n",
       "      <td>M</td>\n",
       "      <td>12th</td>\n",
       "      <td>Huang High School</td>\n",
       "      <td>94</td>\n",
       "      <td>61</td>\n",
       "      <td>0</td>\n",
       "      <td>District</td>\n",
       "      <td>2917</td>\n",
       "      <td>1910635</td>\n",
       "    </tr>\n",
       "    <tr>\n",
       "      <th>2</th>\n",
       "      <td>2</td>\n",
       "      <td>Kevin Rodriguez</td>\n",
       "      <td>M</td>\n",
       "      <td>12th</td>\n",
       "      <td>Huang High School</td>\n",
       "      <td>90</td>\n",
       "      <td>60</td>\n",
       "      <td>0</td>\n",
       "      <td>District</td>\n",
       "      <td>2917</td>\n",
       "      <td>1910635</td>\n",
       "    </tr>\n",
       "    <tr>\n",
       "      <th>3</th>\n",
       "      <td>3</td>\n",
       "      <td>Dr. Richard Scott</td>\n",
       "      <td>M</td>\n",
       "      <td>12th</td>\n",
       "      <td>Huang High School</td>\n",
       "      <td>67</td>\n",
       "      <td>58</td>\n",
       "      <td>0</td>\n",
       "      <td>District</td>\n",
       "      <td>2917</td>\n",
       "      <td>1910635</td>\n",
       "    </tr>\n",
       "    <tr>\n",
       "      <th>4</th>\n",
       "      <td>4</td>\n",
       "      <td>Bonnie Ray</td>\n",
       "      <td>F</td>\n",
       "      <td>9th</td>\n",
       "      <td>Huang High School</td>\n",
       "      <td>97</td>\n",
       "      <td>84</td>\n",
       "      <td>0</td>\n",
       "      <td>District</td>\n",
       "      <td>2917</td>\n",
       "      <td>1910635</td>\n",
       "    </tr>\n",
       "  </tbody>\n",
       "</table>\n",
       "</div>"
      ],
      "text/plain": [
       "   Student ID       student_name gender grade        school_name  \\\n",
       "0           0       Paul Bradley      M   9th  Huang High School   \n",
       "1           1       Victor Smith      M  12th  Huang High School   \n",
       "2           2    Kevin Rodriguez      M  12th  Huang High School   \n",
       "3           3  Dr. Richard Scott      M  12th  Huang High School   \n",
       "4           4         Bonnie Ray      F   9th  Huang High School   \n",
       "\n",
       "   reading_score  math_score  School ID      type  size   budget  \n",
       "0             66          79          0  District  2917  1910635  \n",
       "1             94          61          0  District  2917  1910635  \n",
       "2             90          60          0  District  2917  1910635  \n",
       "3             67          58          0  District  2917  1910635  \n",
       "4             97          84          0  District  2917  1910635  "
      ]
     },
     "execution_count": 5,
     "metadata": {},
     "output_type": "execute_result"
    }
   ],
   "source": [
    "# Short Displa to Check merged data\n",
    "school_data_complete.head()"
   ]
  },
  {
   "cell_type": "markdown",
   "metadata": {},
   "source": [
    "# District Summary\n",
    "\n",
    "Create a high level snapshot (in table form) of the district's key metrics, including:\n",
    "\n",
    "Total Schools\n",
    "\n",
    "Total Students\n",
    "\n",
    "Total Budget\n",
    "\n",
    "Average Math Score\n",
    "\n",
    "Average Reading Score\n",
    "\n",
    "% Passing Math (The percentage of students that passed math.)\n",
    "\n",
    "% Passing Reading (The percentage of students that passed reading.)\n",
    "\n",
    "% Overall Passing (The percentage of students that passed math and reading.)"
   ]
  },
  {
   "cell_type": "code",
   "execution_count": 6,
   "metadata": {},
   "outputs": [
    {
     "name": "stdout",
     "output_type": "stream",
     "text": [
      "15 39170 24649428 78.98537145774827 81.87784018381414 72.39213683941792 82.97166198621395 80.43160582078121\n"
     ]
    }
   ],
   "source": [
    "# Calculating  District's Key Metrics' Totals\n",
    "\n",
    "school_df = pd.DataFrame(school_data)\n",
    "\n",
    "# total_schools = school_data_complete[\"School ID\"].value_counts()\n",
    "total_schools = school_df[\"School ID\"].count()\n",
    "\n",
    "# total_students = school_data_complete[\"Student ID\"].sum()\n",
    "total_budget= school_df[\"budget\"].sum()\n",
    "\n",
    "# total_budget= school_data_complete[\"budget\"].sum()\n",
    "total_students = school_df[\"size\"].sum()\n",
    "\n",
    "#Average math score\n",
    "avg_math_score = school_data_complete[\"math_score\"].mean()\n",
    "\n",
    "#Average reading score\n",
    "avg_reading_score = school_data_complete[\"reading_score\"].mean()\n",
    "\n",
    "# % Passing Math\n",
    "passing_math = school_data_complete.query('math_score >70')[\"School ID\"].count()/ total_students*100\n",
    "\n",
    "# % Passing Reading\n",
    "passing_reading = school_data_complete.query('reading_score >70')[\"School ID\"].count()/ total_students*100\n",
    "\n",
    "# % Overall Passing\n",
    "overall_passrate = (avg_math_score + avg_reading_score)/2\n",
    "\n",
    "\n",
    "print(total_schools, total_students, total_budget, avg_math_score, avg_reading_score, passing_math, passing_reading, overall_passrate)"
   ]
  },
  {
   "cell_type": "code",
   "execution_count": 10,
   "metadata": {},
   "outputs": [
    {
     "data": {
      "text/html": [
       "<div>\n",
       "<style scoped>\n",
       "    .dataframe tbody tr th:only-of-type {\n",
       "        vertical-align: middle;\n",
       "    }\n",
       "\n",
       "    .dataframe tbody tr th {\n",
       "        vertical-align: top;\n",
       "    }\n",
       "\n",
       "    .dataframe thead th {\n",
       "        text-align: right;\n",
       "    }\n",
       "</style>\n",
       "<table border=\"1\" class=\"dataframe\">\n",
       "  <thead>\n",
       "    <tr style=\"text-align: right;\">\n",
       "      <th></th>\n",
       "      <th>Total Schools</th>\n",
       "      <th>Total Students</th>\n",
       "      <th>Total Budget</th>\n",
       "      <th>Average Math Score</th>\n",
       "      <th>Average Reading Score</th>\n",
       "      <th>% Passing Math</th>\n",
       "      <th>% Passing Reading</th>\n",
       "      <th>% Overall Passing Rate</th>\n",
       "    </tr>\n",
       "  </thead>\n",
       "  <tbody>\n",
       "    <tr>\n",
       "      <th>0</th>\n",
       "      <td>15</td>\n",
       "      <td>39170</td>\n",
       "      <td>24,649,428</td>\n",
       "      <td>78.99</td>\n",
       "      <td>81.88</td>\n",
       "      <td>72.39</td>\n",
       "      <td>82.97</td>\n",
       "      <td>80.43</td>\n",
       "    </tr>\n",
       "  </tbody>\n",
       "</table>\n",
       "</div>"
      ],
      "text/plain": [
       "   Total Schools  Total Students Total Budget Average Math Score  \\\n",
       "0             15           39170   24,649,428              78.99   \n",
       "\n",
       "  Average Reading Score % Passing Math % Passing Reading  \\\n",
       "0                 81.88          72.39             82.97   \n",
       "\n",
       "  % Overall Passing Rate  \n",
       "0                  80.43  "
      ]
     },
     "execution_count": 10,
     "metadata": {},
     "output_type": "execute_result"
    }
   ],
   "source": [
    "# Creating a dataframe to hold results with a cleaner formatted display\n",
    "\n",
    "District_summary_df = pd.DataFrame({\"Total Schools\":[total_schools],\n",
    "                                 \"Total Students\":[total_students],\n",
    "                                 \"Total Budget\":[total_budget],\n",
    "                                 \"Average Math Score\":[avg_math_score],\n",
    "                                 \"Average Reading Score\":[avg_reading_score],\n",
    "                                 \"% Passing Math\":[passing_math],\n",
    "                                 \"% Passing Reading\":[passing_reading],\n",
    "                                 \"% Overall Passing Rate\":[overall_passrate]})\n",
    "\n",
    "District_summary_df\n",
    "\n",
    "District_summary_df[\"Average Math Score\"] = District_summary_df[\"Average Math Score\"].map(\"{:.2f}\".format)\n",
    "District_summary_df[\"Average Reading Score\"] = District_summary_df[\"Average Reading Score\"].map(\"{:.2f}\".format)\n",
    "District_summary_df[\"Total Budget\"] = District_summary_df[\"Total Budget\"].map(\"{:,}\".format)\n",
    "District_summary_df[\"% Passing Math\"] = District_summary_df[\"% Passing Math\"].map(\"{:.2f}\".format)\n",
    "District_summary_df[\"% Passing Reading\"] = District_summary_df[\"% Passing Reading\"].map(\"{:.2f}\".format)\n",
    "District_summary_df[\"% Overall Passing Rate\"] = District_summary_df[\"% Overall Passing Rate\"].map(\"{:.2f}\".format)\n",
    "\n",
    "\n",
    "District_summary_df"
   ]
  },
  {
   "cell_type": "markdown",
   "metadata": {},
   "source": [
    "# School Summary\n",
    "\n",
    "Create an overview table that summarizes key metrics about each school, including:\n",
    "\n",
    "School Name\n",
    "\n",
    "School Type\n",
    "\n",
    "Total Students\n",
    "\n",
    "Total School Budget\n",
    "\n",
    "Per Student Budget\n",
    "\n",
    "Average Math Score\n",
    "\n",
    "Average Reading Score\n",
    "\n",
    "% Passing Math\n",
    "\n",
    "% Passing Reading\n",
    "\n",
    "Overall Passing Rate (The percentage of students that passed math and reading.)\n",
    "\n",
    "Create a dataframe to hold the above results\n"
   ]
  },
  {
   "cell_type": "code",
   "execution_count": null,
   "metadata": {},
   "outputs": [],
   "source": []
  },
  {
   "cell_type": "code",
   "execution_count": null,
   "metadata": {},
   "outputs": [],
   "source": [
    "school_data_complete_new = school_data_complete[[\"School ID\", \"school_name\", \"type\", \"size\", \"budget\", \"Student ID\", \"name\",\n",
    "                                                 \"gender\", \"grade\", \"reading_score\",\"math_score\"]].copy()\n",
    "school_data_complete_new.head()"
   ]
  },
  {
   "cell_type": "code",
   "execution_count": null,
   "metadata": {},
   "outputs": [],
   "source": [
    "# school_data_complete_new1 = school_data_complete_new.loc[school_data_complete_new[\"school name\"] == \"Wilson High School\"]\n",
    "# school_data_complete_new1.head()\n",
    "In [6]:"
   ]
  },
  {
   "cell_type": "code",
   "execution_count": null,
   "metadata": {},
   "outputs": [],
   "source": [
    "grouped_school_data = school_data_complete_new.groupby(['school name', \"type\"])\n",
    "# grouped_school_data.drop_duplicates(subset=[budget], keep=False)\n",
    "\n",
    "\n",
    "total_students_grp = grouped_school_data[\"Student ID\"].count()\n",
    "# total_budget_grp = grouped_school_data[\"budget\"]\n",
    "# total_budget_grp_var = total_budget_grp/ total_students_grp\n",
    "total_budget_grp = grouped_school_data[\"budget\"].mean()\n",
    "per_stu_budget_grp =  (total_budget_grp/ total_students_grp)\n",
    "avgmathscore_grp = grouped_school_data[\"math_score\"].mean()\n",
    "avgreadingscore_grp = grouped_school_data[\"reading_score\"].mean()\n",
    "passingmath_grp = school_data_complete_new.query('math_score >70')[\"School ID\"].count()/ total_students_grp\n",
    "passingreading_grp = school_data_complete_new.query('reading_score >70')[\"School ID\"].count()/ total_students_grp \n",
    "overallpassrate_grp = ((avgmathscore_grp + avgreadingscore_grp)/2)"
   ]
  },
  {
   "cell_type": "code",
   "execution_count": null,
   "metadata": {},
   "outputs": [],
   "source": [
    "# Converting a GroupBy object into a DataFrame\n",
    "grouped_school_data_df = pd.DataFrame({\"Total Students\":total_students_grp,\n",
    "                                       \"Total School Budget\": total_budget_grp, \n",
    "                                       \"Per Student Budget\":per_stu_budget_grp,\n",
    "                                       \"Average Math Score\": avgmathscore_grp,\n",
    "                                       \"Average Reading Score\": avgreadingscore_grp,   \n",
    "                                       \"% Passing Math\":passingmath_grp,\n",
    "                                       \"% Passing Reading\":passingreading_grp,\n",
    "                                        \"%Overall Passing Rate\":overallpassrate_grp          \n",
    "})                                    "
   ]
  },
  {
   "cell_type": "code",
   "execution_count": null,
   "metadata": {},
   "outputs": [],
   "source": [
    "grouped_school_data_df = grouped_school_data_df[[  \"Total Students\",\n",
    "    \"Total School Budget\",\n",
    "    \"Per Student Budget\",\n",
    "    \"Average Math Score\",\n",
    "    \"Average Reading Score\",\n",
    "     \"% Passing Math\",   \n",
    "     \"% Passing Reading\",                                             \n",
    "    \"%Overall Passing Rate\"]]"
   ]
  },
  {
   "cell_type": "code",
   "execution_count": null,
   "metadata": {},
   "outputs": [],
   "source": [
    "grouped_school_data_df\n",
    "# Calculate the average test scores\n",
    "# per_school_math = school_data_complete.groupby([\"school_name\"]).mean()[\"math_score\"]\n",
    "# passingmath_grp = school_passing_math.groupby([\"school_name\"]).count()[\"student_name\"] / per_school_counts * 100\n",
    "\n",
    "\n",
    "grouped_school_data_df[\"Total School Budget\"] = grouped_school_data_df[\"Total Students\"].map(\"${:,.2f}\".format)\n",
    "grouped_school_data_df[\"Per Student Budget\"] = grouped_school_data_df[\"Per Student Budget\"].map(\"${:,.2f}\".format)\n",
    "\n",
    "grouped_school_data_df.head(10)"
   ]
  },
  {
   "cell_type": "markdown",
   "metadata": {},
   "source": [
    "# Top Performing Schools (By Passing Rate)\n",
    "\n",
    "Sort and display the top five schools in overall passing rate"
   ]
  },
  {
   "cell_type": "code",
   "execution_count": null,
   "metadata": {},
   "outputs": [],
   "source": [
    "Top_schools = grouped_school_data_df.sort_values(\n",
    "    [\"%Overall Passing Rate\"], ascending=False)\n",
    "Top_schools.head()"
   ]
  },
  {
   "cell_type": "markdown",
   "metadata": {},
   "source": [
    "# Bottom Performing Schools (By Passing Rate)\n",
    "\n",
    "Sort and display the five worst-performing schools"
   ]
  },
  {
   "cell_type": "code",
   "execution_count": null,
   "metadata": {},
   "outputs": [],
   "source": [
    "Bottom_schools = grouped_school_data_df.sort_values(\n",
    "    [\"%Overall Passing Rate\"], ascending=True)\n",
    "Bottom_schools.head()"
   ]
  },
  {
   "cell_type": "markdown",
   "metadata": {},
   "source": [
    "# Math Scores by Grade\n",
    "\n",
    "Create a table that lists the average Reading Score for students of each grade level (9th, 10th, 11th, 12th) at each school.\n",
    "\n",
    "Create a pandas series for each grade. Hint: use a conditional statement.\n",
    "\n",
    "Group each series by school\n",
    "\n",
    "Combine the series into a dataframe\n",
    "\n",
    "Optional: give the displayed data cleaner formatting"
   ]
  },
  {
   "cell_type": "code",
   "execution_count": null,
   "metadata": {},
   "outputs": [],
   "source": [
    "# students_gr_grade_df = student_data.groupby(['school name','grade']).reading_score.mean().unstack(level=1)\n",
    "# students_gr_grade_df\n",
    "\n",
    "nineth_graders = school_data_complete[(school_data_complete[\"grade\"] == \"9th\")]\n",
    "tenth_graders = school_data_complete[(school_data_complete[\"grade\"] == \"10th\")]\n",
    "eleventh_graders = school_data_complete[(school_data_complete[\"grade\"] == \"11th\")]\n",
    "twelfth_graders = school_data_complete[(school_data_complete[\"grade\"] == \"12th\")]\n",
    "\n",
    "nineth_graders_scores = nineth_graders.groupby([\"school name\"]).mean()[\"math_score\"]\n",
    "tenth_graders_scores = tenth_graders.groupby([\"school name\"]).mean()[\"math_score\"]\n",
    "eleventh_graders_scores = eleventh_graders.groupby([\"school name\"]).mean()[\"math_score\"]\n",
    "twelfth_graders_scores = twelfth_graders.groupby([\"school name\"]).mean()[\"math_score\"]\n",
    "\n",
    "\n",
    "scores_by_grade_df = pd.DataFrame({\"9th\": nineth_graders_scores,\n",
    "                                \"10th\":tenth_graders_scores,\n",
    "                                \"11th\":eleventh_graders_scores,\n",
    "                                \"12th\":twelfth_graders_scores\n",
    "})  \n",
    "\n",
    "scores_by_grade_df.index.name = None\n",
    "\n",
    "scores_by_grade_df = scores_by_grade_df [[\"9th\", \"10th\", \"11th\", \"12th\"]]\n",
    "\n",
    "\n",
    "scores_by_grade_df"
   ]
  },
  {
   "cell_type": "markdown",
   "metadata": {},
   "source": [
    "# Reading Score by Grade¶\n",
    "\n",
    "Perform the same operations as above for reading scores"
   ]
  },
  {
   "cell_type": "code",
   "execution_count": null,
   "metadata": {},
   "outputs": [],
   "source": [
    "# students_gr_grade_df = student_data.groupby(['school name','grade']).math_score.mean().unstack(level=1)\n",
    "# students_gr_grade_df\n",
    "nineth_graders = school_data_complete[(school_data_complete[\"grade\"] == \"9th\")]\n",
    "tenth_graders = school_data_complete[(school_data_complete[\"grade\"] == \"10th\")]\n",
    "eleventh_graders = school_data_complete[(school_data_complete[\"grade\"] == \"11th\")]\n",
    "twelfth_graders = school_data_complete[(school_data_complete[\"grade\"] == \"12th\")]\n",
    "\n",
    "nineth_graders_scores = nineth_graders.groupby([\"school name\"]).mean()[\"reading_score\"]\n",
    "tenth_graders_scores = tenth_graders.groupby([\"school name\"]).mean()[\"reading_score\"]\n",
    "eleventh_graders_scores = eleventh_graders.groupby([\"school name\"]).mean()[\"reading_score\"]\n",
    "twelfth_graders_scores = twelfth_graders.groupby([\"school name\"]).mean()[\"reading_score\"]\n",
    "\n",
    "\n",
    "scores_by_grade_df = pd.DataFrame({\"9th\": nineth_graders_scores,\n",
    "                                \"10th\":tenth_graders_scores,\n",
    "                                \"11th\":eleventh_graders_scores,\n",
    "                                \"12th\":twelfth_graders_scores\n",
    "                                \n",
    "                                \n",
    " \n",
    "    \n",
    "    \n",
    "})\n",
    "\n",
    "scores_by_grade_df.index.name = None\n",
    "\n",
    "scores_by_grade_df = scores_by_grade_df [[\"9th\", \"10th\", \"11th\", \"12th\"]]\n",
    "\n",
    "\n",
    "scores_by_grade_df"
   ]
  },
  {
   "cell_type": "markdown",
   "metadata": {},
   "source": [
    "# Scores by School Spending\n",
    "\n",
    "Create a table that breaks down school performances based on average Spending Ranges (Per \n",
    "\n",
    "Student). Use 4 reasonable bins to group school spending. Include in the table each of the following:\n",
    "\n",
    "Average Math Score\n",
    "\n",
    "Average Reading Score\n",
    "\n",
    "% Passing Math\n",
    "\n",
    "% Passing Reading\n",
    "\n",
    "Overall Passing Rate (Average of the above two)"
   ]
  },
  {
   "cell_type": "code",
   "execution_count": null,
   "metadata": {},
   "outputs": [],
   "source": [
    "grouped_school_data_dfbn = grouped_school_data_df.copy()\n",
    "#grouped_school_data_dfbn.head()"
   ]
  },
  {
   "cell_type": "code",
   "execution_count": null,
   "metadata": {},
   "outputs": [],
   "source": [
    "grouped_school_data_df3 = grouped_school_data_dfbn[[\"Per Student Budget\",\"Average Math Score\",\"Average Reading Score\",\"% Passing Math\",\"% Passing Reading\",\n",
    "                                     \"%Overall Passing Rate\"]]\n",
    "grouped_school_data_df3.head()"
   ]
  },
  {
   "cell_type": "code",
   "execution_count": null,
   "metadata": {},
   "outputs": [],
   "source": [
    "# grouped_school_data_df3[\"Per Student Budget\"].astype(int)\n",
    "# grouped_school_data_df3.head()\n",
    "grouped_school_data_df3.dtypes\n"
   ]
  },
  {
   "cell_type": "code",
   "execution_count": null,
   "metadata": {},
   "outputs": [],
   "source": [
    "bins=[0,585,615,645,675]\n",
    "bin_names = [\"< $585\", \"$585-615\",\"$615-645\",\"$645-675\"]\n",
    "grouped_school_data_df3[\"Spending ranges (Per Student)\"] = pd.cut(per_stu_budget_grp, bins, labels=bin_names)\n",
    "\n",
    "sch_spn_math_scores = grouped_school_data_df3.groupby([\"Spending ranges (Per Student)\"]).mean()[\"Average Math Score\"]\n",
    "sch_spn_reading_scores = grouped_school_data_df3.groupby([\"Spending ranges (Per Student)\"]).mean()[\"Average Reading Score\"]\n",
    "sch_spn_passing_math = grouped_school_data_df3.groupby([\"Spending ranges (Per Student)\"]).mean()[\"% Passing Math\"]\n",
    "sch_spn_passing_reading = grouped_school_data_df3.groupby([\"Spending ranges (Per Student)\"]).mean()[\"% Passing Reading\"]\n",
    "sch_spn_overall_passing_rate = (sch_spn_math_scores + sch_spn_reading_scores)/2\n",
    "\n",
    "score_by_school_spn_df = pd.DataFrame({\"Average Math Score\":sch_spn_math_scores,\n",
    "                                    \"Average Reading Score\":sch_spn_reading_scores,\n",
    "                                    \"% Passing Math\":sch_spn_passing_math,\n",
    "                                    \"% Passing Reading\":sch_spn_passing_reading,\n",
    "                                    \"% Overall Passing Rate\": sch_spn_overall_passing_rate})\n",
    "\n",
    "score_by_school_spn_df"
   ]
  },
  {
   "cell_type": "markdown",
   "metadata": {},
   "source": [
    "# Scores by School Size\n",
    "\n",
    "Perform the same operations as above, based on school size."
   ]
  },
  {
   "cell_type": "code",
   "execution_count": null,
   "metadata": {},
   "outputs": [],
   "source": [
    "# Sample bins. Feel free to create your own bins.\n",
    "bins = [0, 1000, 2000, 5000]\n",
    "size_names = [\"Small (<1000)\", \"Medium (1000-2000)\", \"Large (2000-5000)\"]"
   ]
  },
  {
   "cell_type": "code",
   "execution_count": null,
   "metadata": {},
   "outputs": [],
   "source": [
    "grouped_school_data_df3[\"Scores by School Size\"] = pd.cut(total_students_grp, bins, labels=size_names)\n",
    "\n",
    "sch_spn_math_scores = grouped_school_data_df3.groupby([\"Scores by School Size\"]).mean()[\"Average Math Score\"]\n",
    "sch_spn_reading_scores = grouped_school_data_df3.groupby([\"Scores by School Size\"]).mean()[\"Average Reading Score\"]\n",
    "sch_spn_passing_math = grouped_school_data_df3.groupby([\"Scores by School Size\"]).mean()[\"% Passing Math\"]\n",
    "sch_spn_passing_reading = grouped_school_data_df3.groupby([\"Scores by School Size\"]).mean()[\"% Passing Reading\"]\n",
    "sch_spn_overall_passing_rate = (sch_spn_math_scores + sch_spn_reading_scores)/2\n",
    "\n",
    "score_by_school_size_df = pd.DataFrame({\"Average Math Score\":sch_spn_math_scores,\n",
    "                                    \"Average Reading Score\":sch_spn_reading_scores,\n",
    "                                    \"% Passing Math\":sch_spn_passing_math,\n",
    "                                    \"% Passing Reading\":sch_spn_passing_reading,\n",
    "                                    \"% Overall Passing Rate\": sch_spn_overall_passing_rate})\n",
    "\n",
    "score_by_school_size_df"
   ]
  },
  {
   "cell_type": "markdown",
   "metadata": {},
   "source": [
    "# Scores by School Type\n",
    "\n",
    "Perform the same operations as above, based on school type."
   ]
  },
  {
   "cell_type": "code",
   "execution_count": null,
   "metadata": {},
   "outputs": [],
   "source": [
    "sch_spn_math_scores = grouped_school_data_df3.groupby([\"type\"]).mean()[\"Average Math Score\"]\n",
    "sch_spn_reading_scores = grouped_school_data_df3.groupby([\"type\"]).mean()[\"Average Reading Score\"]\n",
    "sch_spn_passing_math = grouped_school_data_df3.groupby([\"type\"]).mean()[\"% Passing Math\"]\n",
    "sch_spn_passing_reading = grouped_school_data_df3.groupby([\"type\"]).mean()[\"% Passing Reading\"]\n",
    "sch_spn_overall_passing_rate = (sch_spn_math_scores + sch_spn_reading_scores)/2\n",
    "\n",
    "score_by_school_Type_df = pd.DataFrame({\"Average Math Score\":sch_spn_math_scores,\n",
    "                                    \"Average Reading Score\":sch_spn_reading_scores,\n",
    "                                    \"% Passing Math\":sch_spn_passing_math,\n",
    "                                    \"% Passing Reading\":sch_spn_passing_reading,\n",
    "                                    \"% Overall Passing Rate\": sch_spn_overall_passing_rate})\n",
    "\n",
    "score_by_school_Type_df"
   ]
  },
  {
   "cell_type": "code",
   "execution_count": null,
   "metadata": {},
   "outputs": [],
   "source": []
  },
  {
   "cell_type": "code",
   "execution_count": null,
   "metadata": {},
   "outputs": [],
   "source": []
  }
 ],
 "metadata": {
  "kernelspec": {
   "display_name": "Python 3",
   "language": "python",
   "name": "python3"
  },
  "language_info": {
   "codemirror_mode": {
    "name": "ipython",
    "version": 3
   },
   "file_extension": ".py",
   "mimetype": "text/x-python",
   "name": "python",
   "nbconvert_exporter": "python",
   "pygments_lexer": "ipython3",
   "version": "3.7.9"
  }
 },
 "nbformat": 4,
 "nbformat_minor": 4
}
